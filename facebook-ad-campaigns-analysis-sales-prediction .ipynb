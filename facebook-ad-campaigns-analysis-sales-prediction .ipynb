{
 "cells": [
  {
   "cell_type": "markdown",
   "metadata": {
    "id": "MTw2IyRlsui-"
   },
   "source": [
    "# **Sales Conversion Optimization by analysing ad campaigns Tracked by Facebook and Prediction using Random Forest Regressor**"
   ]
  },
  {
   "cell_type": "markdown",
   "metadata": {
    "id": "nJLk7gRsTwLu"
   },
   "source": [
    "**Aim:** \n",
    "\n",
    "To optimize Sales conversion and predict future sales"
   ]
  },
  {
   "cell_type": "markdown",
   "metadata": {
    "id": "edmlnu8MT9tr"
   },
   "source": [
    "**Approach:** \n",
    "\n",
    "Exploratory Data Analysis using matplotlib and seaborn and model training using Random Forest Regressor"
   ]
  },
  {
   "cell_type": "markdown",
   "metadata": {
    "id": "3djzR9mWZYD6"
   },
   "source": [
    "# **Importing Libraries**"
   ]
  },
  {
   "cell_type": "code",
   "execution_count": 3,
   "metadata": {},
   "outputs": [],
   "source": [
    "import numpy as np\n",
    "import pandas as pd\n",
    "\n"
   ]
  },
  {
   "cell_type": "markdown",
   "metadata": {
    "id": "LS6u9lS72yZn"
   },
   "source": [
    "# **Loading Data**"
   ]
  },
  {
   "cell_type": "code",
   "execution_count": 4,
   "metadata": {
    "id": "vcHOz_BKYiBl"
   },
   "outputs": [],
   "source": [
    "df=pd.read_csv(\"KAG_conversion_data.csv\")"
   ]
  },
  {
   "cell_type": "code",
   "execution_count": 5,
   "metadata": {
    "id": "-3sQlsWda8AF",
    "outputId": "c4ac58c4-c462-434f-825b-94db9d0618ea"
   },
   "outputs": [
    {
     "data": {
      "text/html": [
       "<div>\n",
       "<style scoped>\n",
       "    .dataframe tbody tr th:only-of-type {\n",
       "        vertical-align: middle;\n",
       "    }\n",
       "\n",
       "    .dataframe tbody tr th {\n",
       "        vertical-align: top;\n",
       "    }\n",
       "\n",
       "    .dataframe thead th {\n",
       "        text-align: right;\n",
       "    }\n",
       "</style>\n",
       "<table border=\"1\" class=\"dataframe\">\n",
       "  <thead>\n",
       "    <tr style=\"text-align: right;\">\n",
       "      <th></th>\n",
       "      <th>ad_id</th>\n",
       "      <th>xyz_campaign_id</th>\n",
       "      <th>fb_campaign_id</th>\n",
       "      <th>age</th>\n",
       "      <th>gender</th>\n",
       "      <th>interest</th>\n",
       "      <th>Impressions</th>\n",
       "      <th>Clicks</th>\n",
       "      <th>Spent</th>\n",
       "      <th>Total_Conversion</th>\n",
       "      <th>Approved_Conversion</th>\n",
       "    </tr>\n",
       "  </thead>\n",
       "  <tbody>\n",
       "    <tr>\n",
       "      <th>0</th>\n",
       "      <td>708746</td>\n",
       "      <td>916</td>\n",
       "      <td>103916</td>\n",
       "      <td>30-34</td>\n",
       "      <td>M</td>\n",
       "      <td>15</td>\n",
       "      <td>7350</td>\n",
       "      <td>1</td>\n",
       "      <td>1.43</td>\n",
       "      <td>2</td>\n",
       "      <td>1</td>\n",
       "    </tr>\n",
       "    <tr>\n",
       "      <th>1</th>\n",
       "      <td>708749</td>\n",
       "      <td>916</td>\n",
       "      <td>103917</td>\n",
       "      <td>30-34</td>\n",
       "      <td>M</td>\n",
       "      <td>16</td>\n",
       "      <td>17861</td>\n",
       "      <td>2</td>\n",
       "      <td>1.82</td>\n",
       "      <td>2</td>\n",
       "      <td>0</td>\n",
       "    </tr>\n",
       "    <tr>\n",
       "      <th>2</th>\n",
       "      <td>708771</td>\n",
       "      <td>916</td>\n",
       "      <td>103920</td>\n",
       "      <td>30-34</td>\n",
       "      <td>M</td>\n",
       "      <td>20</td>\n",
       "      <td>693</td>\n",
       "      <td>0</td>\n",
       "      <td>0.00</td>\n",
       "      <td>1</td>\n",
       "      <td>0</td>\n",
       "    </tr>\n",
       "    <tr>\n",
       "      <th>3</th>\n",
       "      <td>708815</td>\n",
       "      <td>916</td>\n",
       "      <td>103928</td>\n",
       "      <td>30-34</td>\n",
       "      <td>M</td>\n",
       "      <td>28</td>\n",
       "      <td>4259</td>\n",
       "      <td>1</td>\n",
       "      <td>1.25</td>\n",
       "      <td>1</td>\n",
       "      <td>0</td>\n",
       "    </tr>\n",
       "    <tr>\n",
       "      <th>4</th>\n",
       "      <td>708818</td>\n",
       "      <td>916</td>\n",
       "      <td>103928</td>\n",
       "      <td>30-34</td>\n",
       "      <td>M</td>\n",
       "      <td>28</td>\n",
       "      <td>4133</td>\n",
       "      <td>1</td>\n",
       "      <td>1.29</td>\n",
       "      <td>1</td>\n",
       "      <td>1</td>\n",
       "    </tr>\n",
       "  </tbody>\n",
       "</table>\n",
       "</div>"
      ],
      "text/plain": [
       "    ad_id  xyz_campaign_id  fb_campaign_id    age gender  interest  \\\n",
       "0  708746              916          103916  30-34      M        15   \n",
       "1  708749              916          103917  30-34      M        16   \n",
       "2  708771              916          103920  30-34      M        20   \n",
       "3  708815              916          103928  30-34      M        28   \n",
       "4  708818              916          103928  30-34      M        28   \n",
       "\n",
       "   Impressions  Clicks  Spent  Total_Conversion  Approved_Conversion  \n",
       "0         7350       1   1.43                 2                    1  \n",
       "1        17861       2   1.82                 2                    0  \n",
       "2          693       0   0.00                 1                    0  \n",
       "3         4259       1   1.25                 1                    0  \n",
       "4         4133       1   1.29                 1                    1  "
      ]
     },
     "execution_count": 5,
     "metadata": {},
     "output_type": "execute_result"
    }
   ],
   "source": [
    "df.head()"
   ]
  },
  {
   "cell_type": "markdown",
   "metadata": {
    "id": "64LQO_DssTdb"
   },
   "source": [
    "**Checking for null values**"
   ]
  },
  {
   "cell_type": "code",
   "execution_count": 6,
   "metadata": {
    "id": "LFFqbHOwsMZu",
    "outputId": "fb514434-c376-401e-af5f-309fceb13949"
   },
   "outputs": [
    {
     "name": "stdout",
     "output_type": "stream",
     "text": [
      "<class 'pandas.core.frame.DataFrame'>\n",
      "RangeIndex: 1143 entries, 0 to 1142\n",
      "Data columns (total 11 columns):\n",
      " #   Column               Non-Null Count  Dtype  \n",
      "---  ------               --------------  -----  \n",
      " 0   ad_id                1143 non-null   int64  \n",
      " 1   xyz_campaign_id      1143 non-null   int64  \n",
      " 2   fb_campaign_id       1143 non-null   int64  \n",
      " 3   age                  1143 non-null   object \n",
      " 4   gender               1143 non-null   object \n",
      " 5   interest             1143 non-null   int64  \n",
      " 6   Impressions          1143 non-null   int64  \n",
      " 7   Clicks               1143 non-null   int64  \n",
      " 8   Spent                1143 non-null   float64\n",
      " 9   Total_Conversion     1143 non-null   int64  \n",
      " 10  Approved_Conversion  1143 non-null   int64  \n",
      "dtypes: float64(1), int64(8), object(2)\n",
      "memory usage: 98.4+ KB\n"
     ]
    }
   ],
   "source": [
    "df.info()"
   ]
  },
  {
   "cell_type": "markdown",
   "metadata": {
    "id": "hWwKT6iZdnbn"
   },
   "source": [
    "# **Exploratory Data Analysis**"
   ]
  },
  {
   "cell_type": "code",
   "execution_count": 7,
   "metadata": {
    "id": "ScyvdvI2s27b",
    "outputId": "07f59e04-c432-4487-ab45-3c5fe526b1ae"
   },
   "outputs": [
    {
     "data": {
      "text/plain": [
       "(1143, 11)"
      ]
     },
     "execution_count": 7,
     "metadata": {},
     "output_type": "execute_result"
    }
   ],
   "source": [
    "df.shape"
   ]
  },
  {
   "cell_type": "code",
   "execution_count": 8,
   "metadata": {
    "id": "U6nGur6Wsbx9",
    "outputId": "9a7e38e3-84ad-45fc-af4c-91a663091fa1"
   },
   "outputs": [
    {
     "data": {
      "text/html": [
       "<div>\n",
       "<style scoped>\n",
       "    .dataframe tbody tr th:only-of-type {\n",
       "        vertical-align: middle;\n",
       "    }\n",
       "\n",
       "    .dataframe tbody tr th {\n",
       "        vertical-align: top;\n",
       "    }\n",
       "\n",
       "    .dataframe thead th {\n",
       "        text-align: right;\n",
       "    }\n",
       "</style>\n",
       "<table border=\"1\" class=\"dataframe\">\n",
       "  <thead>\n",
       "    <tr style=\"text-align: right;\">\n",
       "      <th></th>\n",
       "      <th>ad_id</th>\n",
       "      <th>xyz_campaign_id</th>\n",
       "      <th>fb_campaign_id</th>\n",
       "      <th>interest</th>\n",
       "      <th>Impressions</th>\n",
       "      <th>Clicks</th>\n",
       "      <th>Spent</th>\n",
       "      <th>Total_Conversion</th>\n",
       "      <th>Approved_Conversion</th>\n",
       "    </tr>\n",
       "  </thead>\n",
       "  <tbody>\n",
       "    <tr>\n",
       "      <th>count</th>\n",
       "      <td>1.143000e+03</td>\n",
       "      <td>1143.000000</td>\n",
       "      <td>1143.000000</td>\n",
       "      <td>1143.000000</td>\n",
       "      <td>1.143000e+03</td>\n",
       "      <td>1143.000000</td>\n",
       "      <td>1143.000000</td>\n",
       "      <td>1143.000000</td>\n",
       "      <td>1143.000000</td>\n",
       "    </tr>\n",
       "    <tr>\n",
       "      <th>mean</th>\n",
       "      <td>9.872611e+05</td>\n",
       "      <td>1067.382327</td>\n",
       "      <td>133783.989501</td>\n",
       "      <td>32.766404</td>\n",
       "      <td>1.867321e+05</td>\n",
       "      <td>33.390201</td>\n",
       "      <td>51.360656</td>\n",
       "      <td>2.855643</td>\n",
       "      <td>0.944007</td>\n",
       "    </tr>\n",
       "    <tr>\n",
       "      <th>std</th>\n",
       "      <td>1.939928e+05</td>\n",
       "      <td>121.629393</td>\n",
       "      <td>20500.308622</td>\n",
       "      <td>26.952131</td>\n",
       "      <td>3.127622e+05</td>\n",
       "      <td>56.892438</td>\n",
       "      <td>86.908418</td>\n",
       "      <td>4.483593</td>\n",
       "      <td>1.737708</td>\n",
       "    </tr>\n",
       "    <tr>\n",
       "      <th>min</th>\n",
       "      <td>7.087460e+05</td>\n",
       "      <td>916.000000</td>\n",
       "      <td>103916.000000</td>\n",
       "      <td>2.000000</td>\n",
       "      <td>8.700000e+01</td>\n",
       "      <td>0.000000</td>\n",
       "      <td>0.000000</td>\n",
       "      <td>0.000000</td>\n",
       "      <td>0.000000</td>\n",
       "    </tr>\n",
       "    <tr>\n",
       "      <th>25%</th>\n",
       "      <td>7.776325e+05</td>\n",
       "      <td>936.000000</td>\n",
       "      <td>115716.000000</td>\n",
       "      <td>16.000000</td>\n",
       "      <td>6.503500e+03</td>\n",
       "      <td>1.000000</td>\n",
       "      <td>1.480000</td>\n",
       "      <td>1.000000</td>\n",
       "      <td>0.000000</td>\n",
       "    </tr>\n",
       "    <tr>\n",
       "      <th>50%</th>\n",
       "      <td>1.121185e+06</td>\n",
       "      <td>1178.000000</td>\n",
       "      <td>144549.000000</td>\n",
       "      <td>25.000000</td>\n",
       "      <td>5.150900e+04</td>\n",
       "      <td>8.000000</td>\n",
       "      <td>12.370000</td>\n",
       "      <td>1.000000</td>\n",
       "      <td>1.000000</td>\n",
       "    </tr>\n",
       "    <tr>\n",
       "      <th>75%</th>\n",
       "      <td>1.121804e+06</td>\n",
       "      <td>1178.000000</td>\n",
       "      <td>144657.500000</td>\n",
       "      <td>31.000000</td>\n",
       "      <td>2.217690e+05</td>\n",
       "      <td>37.500000</td>\n",
       "      <td>60.025000</td>\n",
       "      <td>3.000000</td>\n",
       "      <td>1.000000</td>\n",
       "    </tr>\n",
       "    <tr>\n",
       "      <th>max</th>\n",
       "      <td>1.314415e+06</td>\n",
       "      <td>1178.000000</td>\n",
       "      <td>179982.000000</td>\n",
       "      <td>114.000000</td>\n",
       "      <td>3.052003e+06</td>\n",
       "      <td>421.000000</td>\n",
       "      <td>639.949998</td>\n",
       "      <td>60.000000</td>\n",
       "      <td>21.000000</td>\n",
       "    </tr>\n",
       "  </tbody>\n",
       "</table>\n",
       "</div>"
      ],
      "text/plain": [
       "              ad_id  xyz_campaign_id  fb_campaign_id     interest  \\\n",
       "count  1.143000e+03      1143.000000     1143.000000  1143.000000   \n",
       "mean   9.872611e+05      1067.382327   133783.989501    32.766404   \n",
       "std    1.939928e+05       121.629393    20500.308622    26.952131   \n",
       "min    7.087460e+05       916.000000   103916.000000     2.000000   \n",
       "25%    7.776325e+05       936.000000   115716.000000    16.000000   \n",
       "50%    1.121185e+06      1178.000000   144549.000000    25.000000   \n",
       "75%    1.121804e+06      1178.000000   144657.500000    31.000000   \n",
       "max    1.314415e+06      1178.000000   179982.000000   114.000000   \n",
       "\n",
       "        Impressions       Clicks        Spent  Total_Conversion  \\\n",
       "count  1.143000e+03  1143.000000  1143.000000       1143.000000   \n",
       "mean   1.867321e+05    33.390201    51.360656          2.855643   \n",
       "std    3.127622e+05    56.892438    86.908418          4.483593   \n",
       "min    8.700000e+01     0.000000     0.000000          0.000000   \n",
       "25%    6.503500e+03     1.000000     1.480000          1.000000   \n",
       "50%    5.150900e+04     8.000000    12.370000          1.000000   \n",
       "75%    2.217690e+05    37.500000    60.025000          3.000000   \n",
       "max    3.052003e+06   421.000000   639.949998         60.000000   \n",
       "\n",
       "       Approved_Conversion  \n",
       "count          1143.000000  \n",
       "mean              0.944007  \n",
       "std               1.737708  \n",
       "min               0.000000  \n",
       "25%               0.000000  \n",
       "50%               1.000000  \n",
       "75%               1.000000  \n",
       "max              21.000000  "
      ]
     },
     "execution_count": 8,
     "metadata": {},
     "output_type": "execute_result"
    }
   ],
   "source": [
    "df.describe()"
   ]
  },
  {
   "cell_type": "code",
   "execution_count": 9,
   "metadata": {
    "id": "mIQ1pioNkCjI",
    "outputId": "8fee9784-b5e4-45cb-bcd0-7d8eca23075d"
   },
   "outputs": [],
   "source": [
    "import matplotlib.pyplot as plt\n",
    "import seaborn as sns"
   ]
  },
  {
   "cell_type": "markdown",
   "metadata": {
    "id": "W4POAiyUk3DX"
   },
   "source": [
    "**Correlation Matrix**"
   ]
  },
  {
   "cell_type": "code",
   "execution_count": 10,
   "metadata": {
    "id": "2H2RjwksqSqQ",
    "outputId": "b85b5ef9-0458-48ad-dfec-91534917208b"
   },
   "outputs": [
    {
     "data": {
      "image/png": "[encoded data removed]",
      "text/plain": [
       "<Figure size 432x288 with 2 Axes>"
      ]
     },
     "metadata": {
      "needs_background": "light"
     },
     "output_type": "display_data"
    }
   ],
   "source": [
    "g=sns.heatmap(df[[\"Impressions\",\"Clicks\",\"Spent\",\"Total_Conversion\",\"Approved_Conversion\"]].corr(),annot=True ,fmt=\".2f\", cmap=\"coolwarm\")"
   ]
  },
  {
   "cell_type": "markdown",
   "metadata": {
    "id": "imS7OxHAtWVW"
   },
   "source": [
    "Here it's clear, \"Impressions\" and \"Total_Conversion\" are more correlated with \"Approved_Conversion\" than \"Clicks\" and \"Spent\". "
   ]
  },
  {
   "cell_type": "markdown",
   "metadata": {
    "id": "19IfKGg3fKtg"
   },
   "source": [
    "# **Campaigns**"
   ]
  },
  {
   "cell_type": "code",
   "execution_count": 11,
   "metadata": {
    "id": "ub5tZRnua-Cf",
    "outputId": "2ebcc081-eace-43c9-cfa0-899f0bf6c10b"
   },
   "outputs": [
    {
     "data": {
      "text/plain": [
       "array([ 916,  936, 1178], dtype=int64)"
      ]
     },
     "execution_count": 11,
     "metadata": {},
     "output_type": "execute_result"
    }
   ],
   "source": [
    "df[\"xyz_campaign_id\"].unique()"
   ]
  },
  {
   "cell_type": "markdown",
   "metadata": {
    "id": "nd2hqmT13L1q"
   },
   "source": [
    "Here, we see there are 3 different ad campaigns for xyz company.\n"
   ]
  },
  {
   "cell_type": "code",
   "execution_count": 12,
   "metadata": {
    "id": "fYiNpjfXZw9W"
   },
   "outputs": [],
   "source": [
    "df[\"xyz_campaign_id\"].replace({916:\"campaign_a\",936:\"campaign_b\",1178:\"campaign_c\"}, inplace=True)"
   ]
  },
  {
   "cell_type": "code",
   "execution_count": 13,
   "metadata": {
    "id": "345tvet_KbCe",
    "outputId": "24a17ef5-7966-405c-8e06-b51967eb2293"
   },
   "outputs": [
    {
     "data": {
      "text/html": [
       "<div>\n",
       "<style scoped>\n",
       "    .dataframe tbody tr th:only-of-type {\n",
       "        vertical-align: middle;\n",
       "    }\n",
       "\n",
       "    .dataframe tbody tr th {\n",
       "        vertical-align: top;\n",
       "    }\n",
       "\n",
       "    .dataframe thead th {\n",
       "        text-align: right;\n",
       "    }\n",
       "</style>\n",
       "<table border=\"1\" class=\"dataframe\">\n",
       "  <thead>\n",
       "    <tr style=\"text-align: right;\">\n",
       "      <th></th>\n",
       "      <th>ad_id</th>\n",
       "      <th>xyz_campaign_id</th>\n",
       "      <th>fb_campaign_id</th>\n",
       "      <th>age</th>\n",
       "      <th>gender</th>\n",
       "      <th>interest</th>\n",
       "      <th>Impressions</th>\n",
       "      <th>Clicks</th>\n",
       "      <th>Spent</th>\n",
       "      <th>Total_Conversion</th>\n",
       "      <th>Approved_Conversion</th>\n",
       "    </tr>\n",
       "  </thead>\n",
       "  <tbody>\n",
       "    <tr>\n",
       "      <th>0</th>\n",
       "      <td>708746</td>\n",
       "      <td>campaign_a</td>\n",
       "      <td>103916</td>\n",
       "      <td>30-34</td>\n",
       "      <td>M</td>\n",
       "      <td>15</td>\n",
       "      <td>7350</td>\n",
       "      <td>1</td>\n",
       "      <td>1.43</td>\n",
       "      <td>2</td>\n",
       "      <td>1</td>\n",
       "    </tr>\n",
       "    <tr>\n",
       "      <th>1</th>\n",
       "      <td>708749</td>\n",
       "      <td>campaign_a</td>\n",
       "      <td>103917</td>\n",
       "      <td>30-34</td>\n",
       "      <td>M</td>\n",
       "      <td>16</td>\n",
       "      <td>17861</td>\n",
       "      <td>2</td>\n",
       "      <td>1.82</td>\n",
       "      <td>2</td>\n",
       "      <td>0</td>\n",
       "    </tr>\n",
       "    <tr>\n",
       "      <th>2</th>\n",
       "      <td>708771</td>\n",
       "      <td>campaign_a</td>\n",
       "      <td>103920</td>\n",
       "      <td>30-34</td>\n",
       "      <td>M</td>\n",
       "      <td>20</td>\n",
       "      <td>693</td>\n",
       "      <td>0</td>\n",
       "      <td>0.00</td>\n",
       "      <td>1</td>\n",
       "      <td>0</td>\n",
       "    </tr>\n",
       "    <tr>\n",
       "      <th>3</th>\n",
       "      <td>708815</td>\n",
       "      <td>campaign_a</td>\n",
       "      <td>103928</td>\n",
       "      <td>30-34</td>\n",
       "      <td>M</td>\n",
       "      <td>28</td>\n",
       "      <td>4259</td>\n",
       "      <td>1</td>\n",
       "      <td>1.25</td>\n",
       "      <td>1</td>\n",
       "      <td>0</td>\n",
       "    </tr>\n",
       "    <tr>\n",
       "      <th>4</th>\n",
       "      <td>708818</td>\n",
       "      <td>campaign_a</td>\n",
       "      <td>103928</td>\n",
       "      <td>30-34</td>\n",
       "      <td>M</td>\n",
       "      <td>28</td>\n",
       "      <td>4133</td>\n",
       "      <td>1</td>\n",
       "      <td>1.29</td>\n",
       "      <td>1</td>\n",
       "      <td>1</td>\n",
       "    </tr>\n",
       "  </tbody>\n",
       "</table>\n",
       "</div>"
      ],
      "text/plain": [
       "    ad_id xyz_campaign_id  fb_campaign_id    age gender  interest  \\\n",
       "0  708746      campaign_a          103916  30-34      M        15   \n",
       "1  708749      campaign_a          103917  30-34      M        16   \n",
       "2  708771      campaign_a          103920  30-34      M        20   \n",
       "3  708815      campaign_a          103928  30-34      M        28   \n",
       "4  708818      campaign_a          103928  30-34      M        28   \n",
       "\n",
       "   Impressions  Clicks  Spent  Total_Conversion  Approved_Conversion  \n",
       "0         7350       1   1.43                 2                    1  \n",
       "1        17861       2   1.82                 2                    0  \n",
       "2          693       0   0.00                 1                    0  \n",
       "3         4259       1   1.25                 1                    0  \n",
       "4         4133       1   1.29                 1                    1  "
      ]
     },
     "execution_count": 13,
     "metadata": {},
     "output_type": "execute_result"
    }
   ],
   "source": [
    "df.head()"
   ]
  },
  {
   "cell_type": "code",
   "execution_count": 14,
   "metadata": {
    "id": "WjPq_7mbb0Lb",
    "outputId": "aa2ef47a-2ba8-4960-de10-d6ed26da68f5"
   },
   "outputs": [
    {
     "data": {
      "image/png": "[encoded data removed]",
      "text/plain": [
       "<Figure size 432x288 with 1 Axes>"
      ]
     },
     "metadata": {
      "needs_background": "light"
     },
     "output_type": "display_data"
    }
   ],
   "source": [
    "# count plot on single categorical variable \n",
    "sns.countplot(x ='xyz_campaign_id', data = df) \n",
    "# Show the plot \n",
    "plt.show() "
   ]
  },
  {
   "cell_type": "markdown",
   "metadata": {
    "id": "GUI2hXiIwW11"
   },
   "source": [
    "This shows campaign_c has most number of ads."
   ]
  },
  {
   "cell_type": "code",
   "execution_count": 15,
   "metadata": {
    "id": "ptahrIpIcTk7",
    "outputId": "9a70de33-12a7-4a1e-f452-4d6d3fa9b2ea"
   },
   "outputs": [
    {
     "data": {
      "image/png": "[encoded data removed]",
      "text/plain": [
       "<Figure size 432x288 with 1 Axes>"
      ]
     },
     "metadata": {
      "needs_background": "light"
     },
     "output_type": "display_data"
    }
   ],
   "source": [
    "#Approved_Conversion\n",
    "# Creating our bar plot\n",
    "plt.bar(df[\"xyz_campaign_id\"], df[\"Approved_Conversion\"])\n",
    "plt.ylabel(\"Approved_Conversion\")\n",
    "plt.title(\"company vs Approved_Conversion\")\n",
    "plt.show()"
   ]
  },
  {
   "cell_type": "markdown",
   "metadata": {
    "id": "WscfKIMK3rVf"
   },
   "source": [
    "It's clear from both the above graphs that compaign_c has better Approved_conversion count, i.e. most people bought products in campaign_c.\n",
    "\n"
   ]
  },
  {
   "cell_type": "markdown",
   "metadata": {
    "id": "CCcDFQbB_min"
   },
   "source": [
    "**Age** \n",
    "Let's see the distribution with age."
   ]
  },
  {
   "cell_type": "code",
   "execution_count": 16,
   "metadata": {
    "id": "pe18VnjvjWLp",
    "outputId": "5eb0a8a5-6d8a-4d8b-ec47-ca1432b55548"
   },
   "outputs": [
    {
     "data": {
      "image/png": "[encoded data removed]",
      "text/plain": [
       "<Figure size 432x288 with 1 Axes>"
      ]
     },
     "metadata": {
      "needs_background": "light"
     },
     "output_type": "display_data"
    }
   ],
   "source": [
    "# count plot on single categorical variable \n",
    "sns.countplot(x ='age', data = df) \n",
    "# Show the plot \n",
    "plt.show() "
   ]
  },
  {
   "cell_type": "code",
   "execution_count": 17,
   "metadata": {
    "id": "ljiNE-Yvf8UQ",
    "outputId": "02dfb778-bb1c-4954-d2a2-c8e20919e5e7"
   },
   "outputs": [
    {
     "data": {
      "text/plain": [
       "<AxesSubplot:xlabel='xyz_campaign_id', ylabel='Approved_Conversion'>"
      ]
     },
     "execution_count": 17,
     "metadata": {},
     "output_type": "execute_result"
    },
    {
     "data": {
      "image/png": "[encoded data removed]",
      "text/plain": [
       "<Figure size 432x288 with 1 Axes>"
      ]
     },
     "metadata": {},
     "output_type": "display_data"
    }
   ],
   "source": [
    "import seaborn as sns\n",
    "sns.set(style=\"whitegrid\")\n",
    "tips = sns.load_dataset(\"tips\")\n",
    "sns.barplot(x=df[\"xyz_campaign_id\"], y=df[\"Approved_Conversion\"], hue=df[\"age\"], data=tips)"
   ]
  },
  {
   "cell_type": "markdown",
   "metadata": {
    "id": "KGLvXft74TF2"
   },
   "source": [
    "It's interesting to note that  in campaign_c and campaign_b, the age group of 30-34 shows more interest, whereas in campaign_a the age group of 40-44 shows more interest.\n"
   ]
  },
  {
   "cell_type": "markdown",
   "metadata": {
    "id": "dFXsANUU_pCB"
   },
   "source": [
    "**Gender**"
   ]
  },
  {
   "cell_type": "code",
   "execution_count": 18,
   "metadata": {
    "id": "eOhsSWnnl0Dv",
    "outputId": "3cd068ba-3a2b-4d9a-8a17-17958a0d88e6"
   },
   "outputs": [
    {
     "data": {
      "image/png": "[encoded data removed]",
      "text/plain": [
       "<Figure size 432x288 with 1 Axes>"
      ]
     },
     "metadata": {},
     "output_type": "display_data"
    }
   ],
   "source": [
    "# count plot on single categorical variable \n",
    "sns.countplot(x ='gender', data = df) \n",
    "# Show the plot \n",
    "plt.show() "
   ]
  },
  {
   "cell_type": "code",
   "execution_count": 19,
   "metadata": {
    "id": "PeSD7NfTgatw",
    "outputId": "43d30997-a990-4047-a7d3-58fe7d236e2f"
   },
   "outputs": [
    {
     "data": {
      "text/plain": [
       "<AxesSubplot:xlabel='xyz_campaign_id', ylabel='Approved_Conversion'>"
      ]
     },
     "execution_count": 19,
     "metadata": {},
     "output_type": "execute_result"
    },
    {
     "data": {
      "image/png": "[encoded data removed]",
      "text/plain": [
       "<Figure size 432x288 with 1 Axes>"
      ]
     },
     "metadata": {},
     "output_type": "display_data"
    }
   ],
   "source": [
    "import seaborn as sns\n",
    "sns.set(style=\"whitegrid\")\n",
    "tips = sns.load_dataset(\"tips\")\n",
    "sns.barplot(x=df[\"xyz_campaign_id\"], y=df[\"Approved_Conversion\"], hue=df[\"gender\"], data=tips)"
   ]
  },
  {
   "cell_type": "markdown",
   "metadata": {
    "id": "523l07L253gq"
   },
   "source": [
    "Both the genders shows similar interests in all three campaigns."
   ]
  },
  {
   "cell_type": "markdown",
   "metadata": {
    "id": "XkYEYUsmBIW4"
   },
   "source": [
    "**Interest**"
   ]
  },
  {
   "cell_type": "code",
   "execution_count": 20,
   "metadata": {
    "id": "PmOVDMLjc876",
    "outputId": "43d0fa37-28dd-4b34-c1f9-22ed4411c3a8"
   },
   "outputs": [
    {
     "data": {
      "image/png": "[encoded data removed]",
      "text/plain": [
       "<Figure size 1080x432 with 1 Axes>"
      ]
     },
     "metadata": {},
     "output_type": "display_data"
    }
   ],
   "source": [
    "# count plot on single categorical variable \n",
    "fig_dims = (15,6)\n",
    "fig, ax = plt.subplots(figsize=fig_dims)\n",
    "sns.countplot(x ='interest', data = df) \n",
    "# Show the plot \n",
    "plt.show() "
   ]
  },
  {
   "cell_type": "code",
   "execution_count": 21,
   "metadata": {
    "id": "vM-xDO35Bcn-",
    "outputId": "67382757-fcee-4791-9d63-c188e7213b1e"
   },
   "outputs": [
    {
     "data": {
      "image/png": "[encoded data removed]",
      "text/plain": [
       "<Figure size 432x288 with 1 Axes>"
      ]
     },
     "metadata": {},
     "output_type": "display_data"
    }
   ],
   "source": [
    "plt.scatter(df[\"interest\"], df[\"Approved_Conversion\"])\n",
    "plt.title(\"interest vs. Approved_Conversion\")\n",
    "plt.xlabel(\"interest\")\n",
    "plt.ylabel(\"Approved_Conversion\")\n",
    "plt.show()"
   ]
  },
  {
   "cell_type": "markdown",
   "metadata": {
    "id": "_M37cqOaJI5p"
   },
   "source": [
    "Although the count of interest after 100 is less,there is a rise of users after 100 who actually bought the product. Rest of the distribution is according to what was expected."
   ]
  },
  {
   "cell_type": "code",
   "execution_count": 22,
   "metadata": {
    "id": "kLWObfrn4c_t",
    "outputId": "cc4cfc03-8194-499d-9a86-c12694c6c571"
   },
   "outputs": [
    {
     "data": {
      "image/png": "[encoded data removed]",
      "text/plain": [
       "<Figure size 440.8x216 with 2 Axes>"
      ]
     },
     "metadata": {},
     "output_type": "display_data"
    }
   ],
   "source": [
    "g = sns.FacetGrid(df, col=\"gender\")\n",
    "g.map(plt.scatter, \"interest\", \"Approved_Conversion\", alpha=.4)\n",
    "g.add_legend();"
   ]
  },
  {
   "cell_type": "code",
   "execution_count": 23,
   "metadata": {
    "id": "Qmipp9vs4rh-",
    "outputId": "025f2799-28c6-4d0c-916e-22a873bfb901"
   },
   "outputs": [
    {
     "data": {
      "image/png": "[encoded data removed]",
      "text/plain": [
       "<Figure size 872.8x216 with 4 Axes>"
      ]
     },
     "metadata": {},
     "output_type": "display_data"
    }
   ],
   "source": [
    "g = sns.FacetGrid(df, col=\"age\")\n",
    "g.map(plt.scatter, \"interest\", \"Approved_Conversion\", alpha=.4)\n",
    "g.add_legend();"
   ]
  },
  {
   "cell_type": "markdown",
   "metadata": {
    "id": "hck7z4ddBU_b"
   },
   "source": [
    "**Spent**"
   ]
  },
  {
   "cell_type": "code",
   "execution_count": 24,
   "metadata": {
    "id": "wXFAyDcokueU",
    "outputId": "a442a747-de8d-49a8-8b36-38a765c20949"
   },
   "outputs": [
    {
     "data": {
      "image/png": "[encoded data removed]",
      "text/plain": [
       "<Figure size 432x288 with 1 Axes>"
      ]
     },
     "metadata": {},
     "output_type": "display_data"
    }
   ],
   "source": [
    "plt.hist(df['Spent'], bins = 25)\n",
    "plt.xlabel(\"Spent\")\n",
    "plt.ylabel(\"Frequency\")\n",
    "plt.show()"
   ]
  },
  {
   "cell_type": "code",
   "execution_count": 25,
   "metadata": {
    "id": "mG_BpS6GofLg",
    "outputId": "7f0079d0-f854-43ab-93a0-9cc6b349405c"
   },
   "outputs": [
    {
     "data": {
      "image/png": "[encoded data removed]",
      "text/plain": [
       "<Figure size 432x288 with 1 Axes>"
      ]
     },
     "metadata": {},
     "output_type": "display_data"
    }
   ],
   "source": [
    "plt.scatter(df[\"Spent\"], df[\"Approved_Conversion\"])\n",
    "plt.title(\"Spent vs. Approved_Conversion\")\n",
    "plt.xlabel(\"Spent\")\n",
    "plt.ylabel(\"Approved_Conversion\")\n",
    "plt.show()"
   ]
  },
  {
   "cell_type": "markdown",
   "metadata": {
    "id": "lhwuvfYVKzT3"
   },
   "source": [
    "We can see, as the amount of money spent increases, no of product bought increases."
   ]
  },
  {
   "cell_type": "code",
   "execution_count": 26,
   "metadata": {
    "id": "xORBmDYA38le",
    "outputId": "1380cc69-38f1-4923-c2cb-022e507199f0"
   },
   "outputs": [
    {
     "data": {
      "image/png": "[encoded data removed]",
      "text/plain": [
       "<Figure size 440.8x216 with 2 Axes>"
      ]
     },
     "metadata": {},
     "output_type": "display_data"
    }
   ],
   "source": [
    "g = sns.FacetGrid(df, col=\"gender\")\n",
    "g.map(plt.scatter, \"Spent\", \"Approved_Conversion\", alpha=.4)\n",
    "g.add_legend();"
   ]
  },
  {
   "cell_type": "code",
   "execution_count": 27,
   "metadata": {
    "id": "3P6eZIES4G4L",
    "outputId": "4f8561ae-b6a0-489d-9183-55cf6ff503c0"
   },
   "outputs": [
    {
     "data": {
      "image/png": "[encoded data removed]",
      "text/plain": [
       "<Figure size 872.8x216 with 4 Axes>"
      ]
     },
     "metadata": {},
     "output_type": "display_data"
    }
   ],
   "source": [
    "g = sns.FacetGrid(df, col=\"age\")\n",
    "g.map(plt.scatter, \"Spent\", \"Approved_Conversion\", alpha=.4)\n",
    "g.add_legend();"
   ]
  },
  {
   "cell_type": "markdown",
   "metadata": {
    "id": "hLjfmz5J14Z1"
   },
   "source": [
    "**Impressions**"
   ]
  },
  {
   "cell_type": "code",
   "execution_count": 28,
   "metadata": {
    "id": "u2kyIj9t149A",
    "outputId": "0caeebb8-9171-4940-ca81-6fc3452354a0"
   },
   "outputs": [
    {
     "data": {
      "image/png": "[encoded data removed]",
      "text/plain": [
       "<Figure size 432x288 with 1 Axes>"
      ]
     },
     "metadata": {},
     "output_type": "display_data"
    }
   ],
   "source": [
    "plt.hist(df['Impressions'], bins = 25)\n",
    "plt.xlabel(\"Impressions\")\n",
    "plt.ylabel(\"Frequency\")\n",
    "plt.show()"
   ]
  },
  {
   "cell_type": "code",
   "execution_count": 29,
   "metadata": {
    "id": "LBlfOJ1S2lU2",
    "outputId": "6af9c535-71e6-48e4-dd1d-f55a9b6431c9"
   },
   "outputs": [
    {
     "data": {
      "image/png": "[encoded data removed]",
      "text/plain": [
       "<Figure size 432x288 with 1 Axes>"
      ]
     },
     "metadata": {},
     "output_type": "display_data"
    }
   ],
   "source": [
    "plt.scatter(df[\"Impressions\"], df[\"Approved_Conversion\"])\n",
    "plt.title(\"Impressions vs. Approved_Conversion\")\n",
    "plt.xlabel(\"Impressions\")\n",
    "plt.ylabel(\"Approved_Conversion\")\n",
    "plt.show()"
   ]
  },
  {
   "cell_type": "markdown",
   "metadata": {
    "id": "QjHpeMJ821P_"
   },
   "source": [
    "There is a sudden rise in Approved conversions after a certain point in Impressions."
   ]
  },
  {
   "cell_type": "markdown",
   "metadata": {
    "id": "6Ts5q9q7Lqso"
   },
   "source": [
    "# **People who actually bought the product**"
   ]
  },
  {
   "cell_type": "markdown",
   "metadata": {
    "id": "7cMlaLkGyAF5"
   },
   "source": [
    "**After Clicking the ad ?**"
   ]
  },
  {
   "cell_type": "markdown",
   "metadata": {
    "id": "6YmSv92nyIuR"
   },
   "source": [
    "Let's see people who actually went from clicking to buying the product."
   ]
  },
  {
   "cell_type": "code",
   "execution_count": 30,
   "metadata": {
    "id": "HKSVne_ax_jx",
    "outputId": "f6c0d1df-21a1-437c-ff09-bc9e7371fdcd"
   },
   "outputs": [
    {
     "data": {
      "image/png": "[encoded data removed]",
      "text/plain": [
       "<Figure size 440.8x216 with 2 Axes>"
      ]
     },
     "metadata": {},
     "output_type": "display_data"
    }
   ],
   "source": [
    "g = sns.FacetGrid(df, col=\"gender\")\n",
    "g.map(plt.scatter, \"Clicks\", \"Approved_Conversion\", alpha=.4)\n",
    "g.add_legend();"
   ]
  },
  {
   "cell_type": "markdown",
   "metadata": {
    "id": "LLMEtAYU0NTo"
   },
   "source": [
    "It seems men tend to click more than women but women buy more products than men after clicking the add."
   ]
  },
  {
   "cell_type": "code",
   "execution_count": 31,
   "metadata": {
    "id": "Jwq8C1qXywGq",
    "outputId": "0b05c767-5921-49b5-837b-da9690a43869"
   },
   "outputs": [
    {
     "data": {
      "image/png": "[encoded data removed]",
      "text/plain": [
       "<Figure size 872.8x216 with 4 Axes>"
      ]
     },
     "metadata": {},
     "output_type": "display_data"
    }
   ],
   "source": [
    "g = sns.FacetGrid(df, col=\"age\")\n",
    "g.map(plt.scatter, \"Clicks\", \"Approved_Conversion\", alpha=.4)\n",
    "g.add_legend();"
   ]
  },
  {
   "cell_type": "markdown",
   "metadata": {
    "id": "0wrs6M4v0vPc"
   },
   "source": [
    "People in age group 30-34 has more tendency to buy product after clicking the add."
   ]
  },
  {
   "cell_type": "markdown",
   "metadata": {
    "id": "fxt_6Rqax7lh"
   },
   "source": [
    "**After enquiring the product?**"
   ]
  },
  {
   "cell_type": "markdown",
   "metadata": {
    "id": "JCvY4bRfLbFU"
   },
   "source": [
    "Let's see people who actually went from enquiring to buying the product."
   ]
  },
  {
   "cell_type": "code",
   "execution_count": 32,
   "metadata": {
    "id": "Qisxm6wDD6BY",
    "outputId": "0e3ee754-5009-4dc9-9b2c-187e9d34b0ff"
   },
   "outputs": [
    {
     "data": {
      "image/png": "[encoded data removed]",
      "text/plain": [
       "<Figure size 440.8x216 with 2 Axes>"
      ]
     },
     "metadata": {},
     "output_type": "display_data"
    }
   ],
   "source": [
    "g = sns.FacetGrid(df, col=\"gender\")\n",
    "g.map(plt.scatter, \"Total_Conversion\", \"Approved_Conversion\", alpha=.4)\n",
    "g.add_legend();"
   ]
  },
  {
   "cell_type": "markdown",
   "metadata": {
    "id": "aq-gZZzMMtKg"
   },
   "source": [
    "It seems women buys more products than men after enquiring the product. However men tends to enquire more about the product."
   ]
  },
  {
   "cell_type": "code",
   "execution_count": 33,
   "metadata": {
    "id": "pzDmlmgmMchY",
    "outputId": "135dce30-2143-4c84-ef1e-395829754e88"
   },
   "outputs": [
    {
     "data": {
      "text/plain": [
       "<seaborn.axisgrid.FacetGrid at 0x210de595910>"
      ]
     },
     "execution_count": 33,
     "metadata": {},
     "output_type": "execute_result"
    },
    {
     "data": {
      "image/png": "[encoded data removed]",
      "text/plain": [
       "<Figure size 872.8x216 with 4 Axes>"
      ]
     },
     "metadata": {},
     "output_type": "display_data"
    }
   ],
   "source": [
    "g = sns.FacetGrid(df, col=\"age\")\n",
    "g.map(plt.scatter, \"Total_Conversion\", \"Approved_Conversion\",alpha=.5)\n",
    "g.add_legend()"
   ]
  },
  {
   "cell_type": "markdown",
   "metadata": {
    "id": "G2bLwKxBNARZ"
   },
   "source": [
    "It seems people in age group 30-34 are more likely to buy the product after enquiring the product."
   ]
  },
  {
   "cell_type": "markdown",
   "metadata": {
    "id": "db36k3hZ-uk6"
   },
   "source": [
    "# **Zooming into campaign_c(campaign with most approved_conversion)**"
   ]
  },
  {
   "cell_type": "code",
   "execution_count": 34,
   "metadata": {
    "id": "ArXd6RVcxNY4"
   },
   "outputs": [],
   "source": [
    "a=[]\n",
    "b=[]\n",
    "c=[]\n",
    "for i,j,k in zip(df.xyz_campaign_id, df.fb_campaign_id, df.Approved_Conversion):\n",
    "    if i==\"campaign_c\":\n",
    "      a.append(i),b.append(j),c.append(k)"
   ]
  },
  {
   "cell_type": "code",
   "execution_count": 35,
   "metadata": {
    "id": "-pPQShWT2gBz",
    "outputId": "c0b1f30a-902b-47bf-fb8d-0a0a34dce5e0"
   },
   "outputs": [
    {
     "data": {
      "text/html": [
       "<div>\n",
       "<style scoped>\n",
       "    .dataframe tbody tr th:only-of-type {\n",
       "        vertical-align: middle;\n",
       "    }\n",
       "\n",
       "    .dataframe tbody tr th {\n",
       "        vertical-align: top;\n",
       "    }\n",
       "\n",
       "    .dataframe thead th {\n",
       "        text-align: right;\n",
       "    }\n",
       "</style>\n",
       "<table border=\"1\" class=\"dataframe\">\n",
       "  <thead>\n",
       "    <tr style=\"text-align: right;\">\n",
       "      <th></th>\n",
       "      <th>campaign_name</th>\n",
       "      <th>fb_campaign_id</th>\n",
       "      <th>Approved_Conversion</th>\n",
       "    </tr>\n",
       "  </thead>\n",
       "  <tbody>\n",
       "    <tr>\n",
       "      <th>0</th>\n",
       "      <td>campaign_c</td>\n",
       "      <td>144531</td>\n",
       "      <td>14</td>\n",
       "    </tr>\n",
       "    <tr>\n",
       "      <th>1</th>\n",
       "      <td>campaign_c</td>\n",
       "      <td>144531</td>\n",
       "      <td>5</td>\n",
       "    </tr>\n",
       "    <tr>\n",
       "      <th>2</th>\n",
       "      <td>campaign_c</td>\n",
       "      <td>144531</td>\n",
       "      <td>1</td>\n",
       "    </tr>\n",
       "    <tr>\n",
       "      <th>3</th>\n",
       "      <td>campaign_c</td>\n",
       "      <td>144531</td>\n",
       "      <td>2</td>\n",
       "    </tr>\n",
       "    <tr>\n",
       "      <th>4</th>\n",
       "      <td>campaign_c</td>\n",
       "      <td>144531</td>\n",
       "      <td>2</td>\n",
       "    </tr>\n",
       "  </tbody>\n",
       "</table>\n",
       "</div>"
      ],
      "text/plain": [
       "  campaign_name  fb_campaign_id  Approved_Conversion\n",
       "0    campaign_c          144531                   14\n",
       "1    campaign_c          144531                    5\n",
       "2    campaign_c          144531                    1\n",
       "3    campaign_c          144531                    2\n",
       "4    campaign_c          144531                    2"
      ]
     },
     "execution_count": 35,
     "metadata": {},
     "output_type": "execute_result"
    }
   ],
   "source": [
    "d={'campaign_name':a, 'fb_campaign_id':b, 'Approved_Conversion':c}     \n",
    "campaign_c=pd.DataFrame(d)\n",
    "campaign_c.head()"
   ]
  },
  {
   "cell_type": "markdown",
   "metadata": {
    "id": "dTYzn8EQ_GyP"
   },
   "source": [
    "**Distribution of fb_campaign_id with Approved_Conversion for campaign_c**"
   ]
  },
  {
   "cell_type": "code",
   "execution_count": 36,
   "metadata": {
    "id": "qs97xoyU8y4p",
    "outputId": "c63cf6ec-fd37-405a-aefe-443b490819b1"
   },
   "outputs": [
    {
     "data": {
      "image/png": "[encoded data removed]",
      "text/plain": [
       "<Figure size 1440x360 with 1 Axes>"
      ]
     },
     "metadata": {},
     "output_type": "display_data"
    }
   ],
   "source": [
    "plt.figure(figsize=(20,5))\n",
    "plt.scatter(campaign_c[\"fb_campaign_id\"], campaign_c[\"Approved_Conversion\"])\n",
    "plt.title(\"fb_campaign_id vs. Approved_Conversion for campaign_c\")\n",
    "plt.xlabel(\"fb_campaign_id\")\n",
    "plt.ylabel(\"Approved_Conversion\")\n",
    "plt.show()"
   ]
  },
  {
   "cell_type": "markdown",
   "metadata": {
    "id": "0W22R9-S_YpO"
   },
   "source": [
    "We can see fb_campaign_ids around 145000 have more Approved_Conversion than around 180000 for campaign_c"
   ]
  },
  {
   "cell_type": "markdown",
   "metadata": {
    "id": "Z2k-HMoIDaNU"
   },
   "source": [
    "# **Summary**"
   ]
  },
  {
   "cell_type": "markdown",
   "metadata": {
    "id": "1TSGwru1QrLD"
   },
   "source": [
    "**(Just for reminder : (916,  936, 1178) xyz_campaign_ids were replaced by campaign_a, campaign_b and campaign_c)**"
   ]
  },
  {
   "cell_type": "markdown",
   "metadata": {
    "id": "BRtiK3smHpot"
   },
   "source": [
    "# **Modelling**"
   ]
  },
  {
   "cell_type": "markdown",
   "metadata": {
    "id": "ke2VK5pA_yxl"
   },
   "source": [
    "**Replacing xyz_campaign_ids again with actual ids for modelling**"
   ]
  },
  {
   "cell_type": "code",
   "execution_count": 37,
   "metadata": {
    "id": "oy3wQNTRMpJ4"
   },
   "outputs": [],
   "source": [
    "df[\"xyz_campaign_id\"].replace({\"campaign_a\":916 ,\"campaign_b\":936 ,\"campaign_c\":1178}, inplace=True)"
   ]
  },
  {
   "cell_type": "markdown",
   "metadata": {
    "id": "7xqTHDUDIGRn"
   },
   "source": [
    "**Encoding the Labels 'gender' and 'age' for better modelling**"
   ]
  },
  {
   "cell_type": "code",
   "execution_count": 38,
   "metadata": {
    "id": "EWC9Lm8JIdD3",
    "outputId": "52729401-18a5-4b5f-d960-d27f7a1440fc"
   },
   "outputs": [
    {
     "name": "stdout",
     "output_type": "stream",
     "text": [
      "0       1\n",
      "1       1\n",
      "2       1\n",
      "3       1\n",
      "4       1\n",
      "       ..\n",
      "1138    0\n",
      "1139    0\n",
      "1140    0\n",
      "1141    0\n",
      "1142    0\n",
      "Name: gender, Length: 1143, dtype: int32\n"
     ]
    }
   ],
   "source": [
    "#encoding gender\n",
    "from sklearn.preprocessing import LabelEncoder\n",
    "encoder=LabelEncoder()\n",
    "encoder.fit(df[\"gender\"])\n",
    "df[\"gender\"]=encoder.transform(df[\"gender\"])\n",
    "print(df[\"gender\"])"
   ]
  },
  {
   "cell_type": "code",
   "execution_count": 39,
   "metadata": {
    "id": "Ki1QfM-mJVeA",
    "outputId": "03592134-1844-4e6f-c436-aa68e28d8f79"
   },
   "outputs": [
    {
     "name": "stdout",
     "output_type": "stream",
     "text": [
      "0       0\n",
      "1       0\n",
      "2       0\n",
      "3       0\n",
      "4       0\n",
      "       ..\n",
      "1138    3\n",
      "1139    3\n",
      "1140    3\n",
      "1141    3\n",
      "1142    3\n",
      "Name: age, Length: 1143, dtype: int32\n"
     ]
    }
   ],
   "source": [
    "#encoding age\n",
    "encoder.fit(df[\"age\"])\n",
    "df[\"age\"]=encoder.transform(df[\"age\"])\n",
    "print(df[\"age\"])"
   ]
  },
  {
   "cell_type": "code",
   "execution_count": 40,
   "metadata": {
    "id": "yHs4eWNMQ2du",
    "outputId": "c47ae453-ec52-44b7-c979-4cc9d19ebbb1"
   },
   "outputs": [
    {
     "data": {
      "text/html": [
       "<div>\n",
       "<style scoped>\n",
       "    .dataframe tbody tr th:only-of-type {\n",
       "        vertical-align: middle;\n",
       "    }\n",
       "\n",
       "    .dataframe tbody tr th {\n",
       "        vertical-align: top;\n",
       "    }\n",
       "\n",
       "    .dataframe thead th {\n",
       "        text-align: right;\n",
       "    }\n",
       "</style>\n",
       "<table border=\"1\" class=\"dataframe\">\n",
       "  <thead>\n",
       "    <tr style=\"text-align: right;\">\n",
       "      <th></th>\n",
       "      <th>ad_id</th>\n",
       "      <th>xyz_campaign_id</th>\n",
       "      <th>fb_campaign_id</th>\n",
       "      <th>age</th>\n",
       "      <th>gender</th>\n",
       "      <th>interest</th>\n",
       "      <th>Impressions</th>\n",
       "      <th>Clicks</th>\n",
       "      <th>Spent</th>\n",
       "      <th>Total_Conversion</th>\n",
       "      <th>Approved_Conversion</th>\n",
       "    </tr>\n",
       "  </thead>\n",
       "  <tbody>\n",
       "    <tr>\n",
       "      <th>0</th>\n",
       "      <td>708746</td>\n",
       "      <td>916</td>\n",
       "      <td>103916</td>\n",
       "      <td>0</td>\n",
       "      <td>1</td>\n",
       "      <td>15</td>\n",
       "      <td>7350</td>\n",
       "      <td>1</td>\n",
       "      <td>1.43</td>\n",
       "      <td>2</td>\n",
       "      <td>1</td>\n",
       "    </tr>\n",
       "    <tr>\n",
       "      <th>1</th>\n",
       "      <td>708749</td>\n",
       "      <td>916</td>\n",
       "      <td>103917</td>\n",
       "      <td>0</td>\n",
       "      <td>1</td>\n",
       "      <td>16</td>\n",
       "      <td>17861</td>\n",
       "      <td>2</td>\n",
       "      <td>1.82</td>\n",
       "      <td>2</td>\n",
       "      <td>0</td>\n",
       "    </tr>\n",
       "    <tr>\n",
       "      <th>2</th>\n",
       "      <td>708771</td>\n",
       "      <td>916</td>\n",
       "      <td>103920</td>\n",
       "      <td>0</td>\n",
       "      <td>1</td>\n",
       "      <td>20</td>\n",
       "      <td>693</td>\n",
       "      <td>0</td>\n",
       "      <td>0.00</td>\n",
       "      <td>1</td>\n",
       "      <td>0</td>\n",
       "    </tr>\n",
       "    <tr>\n",
       "      <th>3</th>\n",
       "      <td>708815</td>\n",
       "      <td>916</td>\n",
       "      <td>103928</td>\n",
       "      <td>0</td>\n",
       "      <td>1</td>\n",
       "      <td>28</td>\n",
       "      <td>4259</td>\n",
       "      <td>1</td>\n",
       "      <td>1.25</td>\n",
       "      <td>1</td>\n",
       "      <td>0</td>\n",
       "    </tr>\n",
       "    <tr>\n",
       "      <th>4</th>\n",
       "      <td>708818</td>\n",
       "      <td>916</td>\n",
       "      <td>103928</td>\n",
       "      <td>0</td>\n",
       "      <td>1</td>\n",
       "      <td>28</td>\n",
       "      <td>4133</td>\n",
       "      <td>1</td>\n",
       "      <td>1.29</td>\n",
       "      <td>1</td>\n",
       "      <td>1</td>\n",
       "    </tr>\n",
       "  </tbody>\n",
       "</table>\n",
       "</div>"
      ],
      "text/plain": [
       "    ad_id  xyz_campaign_id  fb_campaign_id  age  gender  interest  \\\n",
       "0  708746              916          103916    0       1        15   \n",
       "1  708749              916          103917    0       1        16   \n",
       "2  708771              916          103920    0       1        20   \n",
       "3  708815              916          103928    0       1        28   \n",
       "4  708818              916          103928    0       1        28   \n",
       "\n",
       "   Impressions  Clicks  Spent  Total_Conversion  Approved_Conversion  \n",
       "0         7350       1   1.43                 2                    1  \n",
       "1        17861       2   1.82                 2                    0  \n",
       "2          693       0   0.00                 1                    0  \n",
       "3         4259       1   1.25                 1                    0  \n",
       "4         4133       1   1.29                 1                    1  "
      ]
     },
     "execution_count": 40,
     "metadata": {},
     "output_type": "execute_result"
    }
   ],
   "source": [
    "df.head()"
   ]
  },
  {
   "cell_type": "markdown",
   "metadata": {
    "id": "8kINv19eKTJW"
   },
   "source": [
    "**Removing \"Approved_Conversion\" and \"Total_Conversion\" from dataset**"
   ]
  },
  {
   "cell_type": "code",
   "execution_count": 41,
   "metadata": {
    "id": "VydoPkkoQ3-r"
   },
   "outputs": [],
   "source": [
    "x=np.array(df.drop(labels=[\"Approved_Conversion\",\"Total_Conversion\"], axis=1))\n",
    "y=np.array(df[\"Total_Conversion\"])"
   ]
  },
  {
   "cell_type": "code",
   "execution_count": 42,
   "metadata": {
    "id": "pEfA7od0D3KO",
    "outputId": "f73c9dab-e883-49e6-94d4-0d67fb06623e"
   },
   "outputs": [
    {
     "data": {
      "text/plain": [
       "array([[7.08746000e+05, 9.16000000e+02, 1.03916000e+05, ...,\n",
       "        7.35000000e+03, 1.00000000e+00, 1.42999995e+00],\n",
       "       [7.08749000e+05, 9.16000000e+02, 1.03917000e+05, ...,\n",
       "        1.78610000e+04, 2.00000000e+00, 1.82000002e+00],\n",
       "       [7.08771000e+05, 9.16000000e+02, 1.03920000e+05, ...,\n",
       "        6.93000000e+02, 0.00000000e+00, 0.00000000e+00],\n",
       "       ...,\n",
       "       [1.31441200e+06, 1.17800000e+03, 1.79979000e+05, ...,\n",
       "        1.51531000e+05, 2.80000000e+01, 4.02899995e+01],\n",
       "       [1.31441400e+06, 1.17800000e+03, 1.79981000e+05, ...,\n",
       "        7.90253000e+05, 1.35000000e+02, 1.98710001e+02],\n",
       "       [1.31441500e+06, 1.17800000e+03, 1.79982000e+05, ...,\n",
       "        5.13161000e+05, 1.14000000e+02, 1.65609999e+02]])"
      ]
     },
     "execution_count": 42,
     "metadata": {},
     "output_type": "execute_result"
    }
   ],
   "source": [
    "x"
   ]
  },
  {
   "cell_type": "code",
   "execution_count": 43,
   "metadata": {
    "id": "Thn2BwnVD-0I",
    "outputId": "6e38b6c3-1163-40e1-c97d-c51639e1898c"
   },
   "outputs": [
    {
     "data": {
      "text/plain": [
       "array([2, 2, 1, ..., 2, 8, 5], dtype=int64)"
      ]
     },
     "execution_count": 43,
     "metadata": {},
     "output_type": "execute_result"
    }
   ],
   "source": [
    "y"
   ]
  },
  {
   "cell_type": "code",
   "execution_count": 44,
   "metadata": {
    "id": "XzUH6f2NEGJ7",
    "outputId": "acf3a8b9-e55a-4477-cf7c-8405a59ed947"
   },
   "outputs": [
    {
     "data": {
      "text/plain": [
       "array([[2],\n",
       "       [2],\n",
       "       [1],\n",
       "       ...,\n",
       "       [2],\n",
       "       [8],\n",
       "       [5]], dtype=int64)"
      ]
     },
     "execution_count": 44,
     "metadata": {},
     "output_type": "execute_result"
    }
   ],
   "source": [
    "y=y.reshape(len(y),1)\n",
    "y"
   ]
  },
  {
   "cell_type": "markdown",
   "metadata": {
    "id": "G3HyYG9ecL79"
   },
   "source": [
    "**Feature Scaling**"
   ]
  },
  {
   "cell_type": "code",
   "execution_count": 45,
   "metadata": {
    "id": "WY3-WBcCTSzI"
   },
   "outputs": [],
   "source": [
    "from sklearn.preprocessing import StandardScaler\n",
    "sc_x= StandardScaler()\n",
    "x = sc_x.fit_transform(x)"
   ]
  },
  {
   "cell_type": "markdown",
   "metadata": {
    "id": "0gN-JH-pKiDW"
   },
   "source": [
    "**splitting Data into testset and trainset**"
   ]
  },
  {
   "cell_type": "code",
   "execution_count": 46,
   "metadata": {
    "id": "SXfyIAQxSi0B"
   },
   "outputs": [],
   "source": [
    "from sklearn.model_selection import train_test_split\n",
    "x_train, x_test, y_train, y_test = train_test_split(x,y,test_size=0.2, random_state=42)"
   ]
  },
  {
   "cell_type": "markdown",
   "metadata": {},
   "source": [
    "### Linear Regression"
   ]
  },
  {
   "cell_type": "code",
   "execution_count": 59,
   "metadata": {},
   "outputs": [],
   "source": [
    "from sklearn.linear_model import LinearRegression\n",
    "from sklearn.model_selection import StratifiedKFold\n",
    "from sklearn.metrics import mean_absolute_error,mean_squared_error,r2_score"
   ]
  },
  {
   "cell_type": "code",
   "execution_count": 60,
   "metadata": {},
   "outputs": [
    {
     "data": {
      "text/plain": [
       "LinearRegression()"
      ]
     },
     "execution_count": 60,
     "metadata": {},
     "output_type": "execute_result"
    }
   ],
   "source": [
    "lin_model = LinearRegression()\n",
    "lin_model.fit(x_train,y_train)"
   ]
  },
  {
   "cell_type": "code",
   "execution_count": 65,
   "metadata": {},
   "outputs": [
    {
     "name": "stdout",
     "output_type": "stream",
     "text": [
      "Mean absolute error: 1.0441089410604627\n",
      "Mean squared error: 3.40596824706812\n",
      "Root Mean squared error: 1.8455265500848586\n"
     ]
    }
   ],
   "source": [
    "# Testing data evaluation\n",
    "ypredtest = lin_model.predict(x_test)\n",
    "\n",
    "Mean_absolute_error = mean_absolute_error(y_test,ypredtest)\n",
    "print('Mean absolute error:',Mean_absolute_error)\n",
    "\n",
    "Mean_squared_error = mean_squared_error(y_test,ypredtest)\n",
    "print('Mean squared error:',Mean_squared_error)\n",
    "\n",
    "Root_mean_squared_error = np.sqrt(Mean_squared_error)\n",
    "print('Root Mean squared error:',Root_mean_squared_error)\n",
    "\n"
   ]
  },
  {
   "cell_type": "code",
   "execution_count": 66,
   "metadata": {},
   "outputs": [
    {
     "name": "stdout",
     "output_type": "stream",
     "text": [
      "Mean absolute error: 1.2244456335216531\n",
      "Mean squared error: 5.718369753758413\n",
      "Root Mean squared error: 2.3913113042342298\n"
     ]
    }
   ],
   "source": [
    "# Training data evaluation\n",
    "ypredtrain = lin_model.predict(x_train)\n",
    "\n",
    "Mean_absolute_error = mean_absolute_error(y_train,ypredtrain)\n",
    "print('Mean absolute error:',Mean_absolute_error)\n",
    "\n",
    "Mean_squared_error = mean_squared_error(y_train,ypredtrain)\n",
    "print('Mean squared error:',Mean_squared_error)\n",
    "\n",
    "Root_mean_squared_error = np.sqrt(Mean_squared_error)\n",
    "print('Root Mean squared error:',Root_mean_squared_error)\n"
   ]
  },
  {
   "cell_type": "code",
   "execution_count": null,
   "metadata": {},
   "outputs": [],
   "source": []
  },
  {
   "cell_type": "markdown",
   "metadata": {
    "id": "Ek9UKmL4Ksu9"
   },
   "source": [
    "# **Random Forest Regressor to predict Total_Conversion**"
   ]
  },
  {
   "cell_type": "code",
   "execution_count": 47,
   "metadata": {
    "id": "XGnLfcmHxeK6",
    "outputId": "f1d5d302-0907-4c53-d709-260018fc0722"
   },
   "outputs": [
    {
     "name": "stderr",
     "output_type": "stream",
     "text": [
      "<ipython-input-47-9fca553b3423>:3: DataConversionWarning: A column-vector y was passed when a 1d array was expected. Please change the shape of y to (n_samples,), for example using ravel().\n",
      "  rfr.fit(x_train, y_train)\n"
     ]
    },
    {
     "data": {
      "text/plain": [
       "RandomForestRegressor(n_estimators=10, random_state=0)"
      ]
     },
     "execution_count": 47,
     "metadata": {},
     "output_type": "execute_result"
    }
   ],
   "source": [
    "from sklearn.ensemble import RandomForestRegressor\n",
    "rfr = RandomForestRegressor(n_estimators = 10, random_state = 0)\n",
    "rfr.fit(x_train, y_train)"
   ]
  },
  {
   "cell_type": "markdown",
   "metadata": {
    "id": "BMFzXtFdK7XE"
   },
   "source": [
    "**Predicting Total Conversion in test_set and rounding up values**"
   ]
  },
  {
   "cell_type": "code",
   "execution_count": 48,
   "metadata": {
    "id": "exko5ZtF9JLN"
   },
   "outputs": [],
   "source": [
    "y_pred=rfr.predict(x_test)\n",
    "y_pred=np.round(y_pred)"
   ]
  },
  {
   "cell_type": "code",
   "execution_count": 49,
   "metadata": {
    "id": "3Lbiw66ULDFo",
    "outputId": "1ca53101-551b-4c33-d8ca-83406df0303f"
   },
   "outputs": [
    {
     "data": {
      "text/plain": [
       "array([ 1.,  3.,  1.,  2.,  1.,  2.,  1.,  1.,  1.,  1.,  2.,  9.,  2.,\n",
       "        2.,  3.,  1.,  1.,  2.,  1.,  2., 18.,  3.,  1.,  3.,  1.,  1.,\n",
       "        2.,  1.,  1.,  1.,  2.,  1.,  1.,  2.,  1.,  1.,  1.,  2.,  2.,\n",
       "        1.,  1.,  1.,  1.,  2.,  8.,  1.,  1.,  2.,  1., 13.,  4.,  1.,\n",
       "        1.,  3.,  2.,  1.,  4.,  4.,  2.,  2.,  1.,  4.,  1.,  1.,  3.,\n",
       "        1.,  1.,  4.,  1.,  1.,  1.,  1.,  2.,  2.,  1.,  1.,  2.,  1.,\n",
       "        1.,  1.,  2.,  2.,  1.,  4.,  1.,  2., 11.,  2., 26.,  1.,  1.,\n",
       "        2.,  4.,  3.,  1.,  1.,  7.,  2.,  1.,  1.,  4.,  2.,  1.,  2.,\n",
       "        1.,  1.,  1.,  1.,  2.,  1.,  3.,  1.,  1.,  2.,  1.,  1.,  1.,\n",
       "        1.,  2.,  1.,  4.,  1.,  1.,  1., 16.,  7.,  2.,  1.,  5.,  1.,\n",
       "        2.,  1.,  3.,  1.,  1.,  1.,  2.,  1.,  2.,  9.,  1.,  1.,  1.,\n",
       "        2.,  1.,  2.,  1.,  2.,  2.,  3.,  1.,  1.,  1.,  1.,  1., 22.,\n",
       "        4.,  3.,  3.,  3.,  1.,  3.,  1.,  1.,  1.,  6.,  2.,  3.,  1.,\n",
       "        1.,  3., 22.,  6.,  6.,  1.,  2.,  1.,  1.,  1., 11.,  1.,  1.,\n",
       "        1., 11.,  1.,  1.,  4.,  1.,  1.,  3.,  1.,  1.,  2.,  1.,  1.,\n",
       "       14., 10.,  3.,  1.,  5.,  5.,  1.,  1.,  1., 16.,  2.,  1.,  5.,\n",
       "       12.,  1.,  1.,  1.,  1.,  2.,  1.,  2.,  1.,  1.,  1.,  1.,  9.,\n",
       "        1.,  1.,  4.,  1.,  1.,  1.,  1.,  2.])"
      ]
     },
     "execution_count": 49,
     "metadata": {},
     "output_type": "execute_result"
    }
   ],
   "source": [
    "y_pred"
   ]
  },
  {
   "cell_type": "markdown",
   "metadata": {
    "id": "uqLTm717LFwI"
   },
   "source": [
    "# **Evaluation**"
   ]
  },
  {
   "cell_type": "code",
   "execution_count": 50,
   "metadata": {
    "id": "5e0GL_5l78Iv"
   },
   "outputs": [],
   "source": [
    "from sklearn.metrics import r2_score,mean_squared_error,mean_absolute_error\n",
    "mae=mean_absolute_error(y_test, y_pred)\n",
    "mse=mean_squared_error(y_test, y_pred)\n",
    "rmse=np.sqrt(mse)\n",
    "r2_score=r2_score(y_test, y_pred)\n"
   ]
  },
  {
   "cell_type": "code",
   "execution_count": 51,
   "metadata": {},
   "outputs": [
    {
     "data": {
      "text/plain": [
       "0.9912663755458515"
      ]
     },
     "execution_count": 51,
     "metadata": {},
     "output_type": "execute_result"
    }
   ],
   "source": [
    "mae"
   ]
  },
  {
   "cell_type": "markdown",
   "metadata": {},
   "source": [
    "The mean absolute error achieved is 0.99."
   ]
  },
  {
   "cell_type": "code",
   "execution_count": 52,
   "metadata": {
    "id": "M-GNoPc5QkAW",
    "outputId": "34bd3c6d-e3ab-4f49-d813-628dc7d45fd0"
   },
   "outputs": [
    {
     "data": {
      "text/plain": [
       "0.7530816415210646"
      ]
     },
     "execution_count": 52,
     "metadata": {},
     "output_type": "execute_result"
    }
   ],
   "source": [
    "#R-squred value\n",
    "r2_score"
   ]
  },
  {
   "cell_type": "markdown",
   "metadata": {},
   "source": [
    "### SVM Regressor"
   ]
  },
  {
   "cell_type": "code",
   "execution_count": 53,
   "metadata": {},
   "outputs": [
    {
     "name": "stderr",
     "output_type": "stream",
     "text": [
      "C:\\ProgramData\\Anaconda3\\lib\\site-packages\\sklearn\\utils\\validation.py:63: DataConversionWarning: A column-vector y was passed when a 1d array was expected. Please change the shape of y to (n_samples, ), for example using ravel().\n",
      "  return f(*args, **kwargs)\n"
     ]
    },
    {
     "data": {
      "text/plain": [
       "SVR()"
      ]
     },
     "execution_count": 53,
     "metadata": {},
     "output_type": "execute_result"
    }
   ],
   "source": [
    "from sklearn.svm import SVR\n",
    "regressor = SVR(kernel = 'rbf')\n",
    "regressor.fit(x_train, y_train)"
   ]
  },
  {
   "cell_type": "markdown",
   "metadata": {},
   "source": [
    "**most important SVR parameter is Kernel type.\n",
    "It can be #linear,polynomial or gaussian ,rbf kernel.. \n",
    "We have a non-linear condition #so we can select polynomial or gaussian but here we select RBF(a #gaussian type) kernel."
   ]
  },
  {
   "cell_type": "code",
   "execution_count": 57,
   "metadata": {},
   "outputs": [
    {
     "name": "stdout",
     "output_type": "stream",
     "text": [
      "Mean absolute error: 1.048731089897813\n",
      "Mean squared error: 8.344237188806915\n",
      "Root Mean squared error: 2.8886393317281605\n"
     ]
    }
   ],
   "source": [
    "# Testing data evaluation\n",
    "ypredtest = regressor.predict(x_test)\n",
    "\n",
    "Mean_absolute_error = mean_absolute_error(y_test,ypredtest)\n",
    "print('Mean absolute error:',Mean_absolute_error)\n",
    "\n",
    "Mean_squared_error = mean_squared_error(y_test,ypredtest)\n",
    "print('Mean squared error:',Mean_squared_error)\n",
    "\n",
    "Root_mean_squared_error = np.sqrt(Mean_squared_error)\n",
    "print('Root Mean squared error:',Root_mean_squared_error)\n"
   ]
  },
  {
   "cell_type": "code",
   "execution_count": 56,
   "metadata": {},
   "outputs": [
    {
     "name": "stdout",
     "output_type": "stream",
     "text": [
      "Mean absolute error: 1.130117211910631\n",
      "Mean squared error: 10.148947324644718\n",
      "Root Mean squared error: 3.1857412519921824\n"
     ]
    }
   ],
   "source": [
    "# Training data evaluation\n",
    "ypredtrain = regressor.predict(x_train)\n",
    "\n",
    "Mean_absolute_error = mean_absolute_error(y_train,ypredtrain)\n",
    "print('Mean absolute error:',Mean_absolute_error)\n",
    "\n",
    "Mean_squared_error = mean_squared_error(y_train,ypredtrain)\n",
    "print('Mean squared error:',Mean_squared_error)\n",
    "\n",
    "Root_mean_squared_error = np.sqrt(Mean_squared_error)\n",
    "print('Root Mean squared error:',Root_mean_squared_error)\n",
    "\n"
   ]
  },
  {
   "cell_type": "code",
   "execution_count": null,
   "metadata": {},
   "outputs": [],
   "source": []
  }
 ],
 "metadata": {
  "kernelspec": {
   "display_name": "Python 3",
   "language": "python",
   "name": "python3"
  },
  "language_info": {
   "codemirror_mode": {
    "name": "ipython",
    "version": 3
   },
   "file_extension": ".py",
   "mimetype": "text/x-python",
   "name": "python",
   "nbconvert_exporter": "python",
   "pygments_lexer": "ipython3",
   "version": "3.8.8"
  }
 },
 "nbformat": 4,
 "nbformat_minor": 4
}
